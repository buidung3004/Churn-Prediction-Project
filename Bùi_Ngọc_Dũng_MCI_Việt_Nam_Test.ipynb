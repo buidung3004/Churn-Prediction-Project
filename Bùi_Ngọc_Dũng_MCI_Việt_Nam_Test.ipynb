{
  "cells": [
    {
      "cell_type": "code",
      "source": [
        "import pandas as pd\n",
        "from sklearn.preprocessing import LabelEncoder, StandardScaler\n",
        "from sklearn.model_selection import train_test_split\n",
        "\n",
        "# Load the datasets\n",
        "train_data_path = 'churn-bigml-80.csv'\n",
        "test_data_path = 'churn-bigml-20.csv'\n",
        "\n",
        "train_df = pd.read_csv(train_data_path)\n",
        "test_df = pd.read_csv(test_data_path)\n",
        "\n",
        "# Encode categorical features\n",
        "label_encoders = {}\n",
        "for column in train_df.select_dtypes(include=['object']).columns:\n",
        "    le = LabelEncoder()\n",
        "    train_df[column] = le.fit_transform(train_df[column])\n",
        "    test_df[column] = le.transform(test_df[column])\n",
        "    label_encoders[column] = le\n",
        "\n",
        "# Standardize numerical features\n",
        "scaler = StandardScaler()\n",
        "numerical_features = train_df.select_dtypes(include=['float64', 'int64']).columns\n",
        "train_df[numerical_features] = scaler.fit_transform(train_df[numerical_features])\n",
        "test_df[numerical_features] = scaler.transform(test_df[numerical_features])\n",
        "\n",
        "# Separate features and target variable\n",
        "X_train = train_df.drop('Churn', axis=1)\n",
        "y_train = train_df['Churn']\n",
        "X_test = test_df.drop('Churn', axis=1)\n",
        "y_test = test_df['Churn']\n"
      ],
      "metadata": {
        "id": "Alh63y1Az-YH"
      },
      "execution_count": 3,
      "outputs": []
    },
    {
      "cell_type": "code",
      "source": [
        "from sklearn.linear_model import LogisticRegression\n",
        "from sklearn.ensemble import RandomForestClassifier\n",
        "from sklearn.svm import SVC\n",
        "from sklearn.neighbors import KNeighborsClassifier\n",
        "from sklearn.tree import DecisionTreeClassifier\n",
        "from sklearn.metrics import accuracy_score, f1_score, roc_auc_score\n",
        "\n",
        "\n",
        "models = {\n",
        "    \"Logistic Regression\": LogisticRegression(),\n",
        "    \"Random Forest\": RandomForestClassifier(),\n",
        "    \"Support Vector Machine\": SVC(probability=True),\n",
        "    \"K-Nearest Neighbors\": KNeighborsClassifier(),\n",
        "    \"Decision Tree\": DecisionTreeClassifier()\n",
        "}\n",
        "\n",
        "model_performance = {}\n",
        "\n",
        "for name, model in models.items():\n",
        "    model.fit(X_train, y_train)\n",
        "    y_pred = model.predict(X_test)\n",
        "    y_pred_prob = model.predict_proba(X_test)[:, 1] if hasattr(model, \"predict_proba\") else None\n",
        "\n",
        "    accuracy = accuracy_score(y_test, y_pred)\n",
        "    f1 = f1_score(y_test, y_pred)\n",
        "    auc = roc_auc_score(y_test, y_pred_prob) if y_pred_prob is not None else \"N/A\"\n",
        "\n",
        "    model_performance[name] = {\n",
        "        \"Accuracy\": accuracy,\n",
        "        \"F1 Score\": f1,\n",
        "        \"AUC-ROC\": auc\n",
        "    }\n",
        "\n",
        "# Hiển thị hiệu suất các mô hình\n",
        "performance_df = pd.DataFrame(model_performance).T\n",
        "print(performance_df)\n",
        "\n"
      ],
      "metadata": {
        "id": "xHDCF8Js0T7A",
        "outputId": "857de1be-ccc0-4c10-ddb0-a56cd386c675",
        "colab": {
          "base_uri": "https://localhost:8080/"
        }
      },
      "execution_count": 4,
      "outputs": [
        {
          "output_type": "stream",
          "name": "stdout",
          "text": [
            "                        Accuracy  F1 Score   AUC-ROC\n",
            "Logistic Regression     0.853073  0.257576  0.825966\n",
            "Random Forest           0.953523  0.809816  0.920280\n",
            "Support Vector Machine  0.919040  0.635135  0.936327\n",
            "K-Nearest Neighbors     0.890555  0.434109  0.845307\n",
            "Decision Tree           0.913043  0.707071  0.839575\n"
          ]
        }
      ]
    },
    {
      "cell_type": "code",
      "source": [
        "from sklearn.preprocessing import LabelEncoder, StandardScaler\n",
        "from sklearn.impute import SimpleImputer\n",
        "from imblearn.over_sampling import SMOTE\n",
        "\n",
        "# Encode categorical features\n",
        "label_encoders = {}\n",
        "for column in train_df.select_dtypes(include=['object']).columns:\n",
        "    le = LabelEncoder()\n",
        "    train_df[column] = le.fit_transform(train_df[column])\n",
        "    test_df[column] = le.transform(test_df[column])\n",
        "    label_encoders[column] = le\n",
        "\n",
        "# Standardize numerical features\n",
        "scaler = StandardScaler()\n",
        "numerical_features = train_df.select_dtypes(include=['float64', 'int64']).columns\n",
        "train_df[numerical_features] = scaler.fit_transform(train_df[numerical_features])\n",
        "test_df[numerical_features] = scaler.transform(test_df[numerical_features])\n",
        "\n",
        "# Separate features and target variable\n",
        "X_train = train_df.drop('Churn', axis=1)\n",
        "y_train = train_df['Churn']\n",
        "X_test = test_df.drop('Churn', axis=1)\n",
        "y_test = test_df['Churn']\n"
      ],
      "metadata": {
        "id": "XZl0OYXw1I5a"
      },
      "execution_count": 5,
      "outputs": []
    },
    {
      "cell_type": "code",
      "source": [
        "# Áp dụng SMOTE để tăng cường dữ liệu lớp thiểu số\n",
        "smote = SMOTE(random_state=42)\n",
        "X_train_resampled, y_train_resampled = smote.fit_resample(X_train, y_train)\n",
        "\n",
        "# Kiểm tra kích thước của dữ liệu sau khi resample\n",
        "print(f\"Original dataset shape: {y_train.value_counts()}\")\n",
        "print(f\"Resampled dataset shape: {pd.Series(y_train_resampled).value_counts()}\")\n"
      ],
      "metadata": {
        "colab": {
          "base_uri": "https://localhost:8080/"
        },
        "id": "pWyRV61GQ42x",
        "outputId": "ba39e222-2b96-4baa-8f07-51538cf9b32d"
      },
      "execution_count": 6,
      "outputs": [
        {
          "output_type": "stream",
          "name": "stdout",
          "text": [
            "Original dataset shape: Churn\n",
            "False    2278\n",
            "True      388\n",
            "Name: count, dtype: int64\n",
            "Resampled dataset shape: Churn\n",
            "False    2278\n",
            "True     2278\n",
            "Name: count, dtype: int64\n"
          ]
        }
      ]
    },
    {
      "cell_type": "code",
      "source": [
        "from sklearn.metrics import classification_report, confusion_matrix, accuracy_score\n",
        "\n",
        "# Khởi tạo và huấn luyện mô hình Random Forest\n",
        "rf = RandomForestClassifier(random_state=42)\n",
        "rf.fit(X_train_resampled, y_train_resampled)\n",
        "\n",
        "# Dự đoán và đánh giá mô hình\n",
        "y_pred = rf.predict(X_test)\n",
        "print(\"Accuracy:\", accuracy_score(y_test, y_pred))\n",
        "print(\"Confusion Matrix:\\n\", confusion_matrix(y_test, y_pred))\n",
        "print(\"Classification Report:\\n\", classification_report(y_test, y_pred))\n"
      ],
      "metadata": {
        "id": "RzfsThNL4Zn9",
        "outputId": "e5e27b55-d289-4ce6-eae9-15ea443f40b3",
        "colab": {
          "base_uri": "https://localhost:8080/"
        }
      },
      "execution_count": 7,
      "outputs": [
        {
          "output_type": "stream",
          "name": "stdout",
          "text": [
            "Accuracy: 0.9475262368815592\n",
            "Confusion Matrix:\n",
            " [[556  16]\n",
            " [ 19  76]]\n",
            "Classification Report:\n",
            "               precision    recall  f1-score   support\n",
            "\n",
            "       False       0.97      0.97      0.97       572\n",
            "        True       0.83      0.80      0.81        95\n",
            "\n",
            "    accuracy                           0.95       667\n",
            "   macro avg       0.90      0.89      0.89       667\n",
            "weighted avg       0.95      0.95      0.95       667\n",
            "\n"
          ]
        }
      ]
    },
    {
      "cell_type": "code",
      "source": [
        "import matplotlib.pyplot as plt\n",
        "import numpy as np\n",
        "\n",
        "# Xác định tầm quan trọng của các đặc trưng\n",
        "importances = rf.feature_importances_\n",
        "indices = np.argsort(importances)[::-1]\n",
        "\n",
        "# In ra tầm quan trọng của các đặc trưng\n",
        "print(\"Feature ranking:\")\n",
        "for f in range(X_train.shape[1]):\n",
        "    print(f\"{f + 1}. feature {indices[f]} ({importances[indices[f]]}) - {X_train.columns[indices[f]]}\")\n",
        "\n",
        "# Vẽ biểu đồ tầm quan trọng của các đặc trưng\n",
        "plt.figure(figsize=(12, 8))\n",
        "plt.title(\"Feature Importances\")\n",
        "plt.bar(range(X_train.shape[1]), importances[indices], align=\"center\")\n",
        "plt.xticks(range(X_train.shape[1]), [X_train.columns[i] for i in indices], rotation=90)\n",
        "plt.xlim([-1, X_train.shape[1]])\n",
        "plt.show()\n"
      ],
      "metadata": {
        "id": "ynRdt8r24fdv",
        "outputId": "5f0d2d40-9711-49d1-ca9f-717c3d6ae998",
        "colab": {
          "base_uri": "https://localhost:8080/",
          "height": 1000
        }
      },
      "execution_count": 8,
      "outputs": [
        {
          "output_type": "stream",
          "name": "stdout",
          "text": [
            "Feature ranking:\n",
            "1. feature 18 (0.1661787317459592) - Customer service calls\n",
            "2. feature 8 (0.1157377701554714) - Total day charge\n",
            "3. feature 6 (0.10602575439283113) - Total day minutes\n",
            "4. feature 3 (0.09488558592909545) - International plan\n",
            "5. feature 16 (0.07021861491070643) - Total intl calls\n",
            "6. feature 9 (0.05110931200464452) - Total eve minutes\n",
            "7. feature 11 (0.046650946531897) - Total eve charge\n",
            "8. feature 2 (0.04521206371647331) - Area code\n",
            "9. feature 17 (0.035452312471329586) - Total intl charge\n",
            "10. feature 15 (0.03533051982546731) - Total intl minutes\n",
            "11. feature 0 (0.031834309439043744) - State\n",
            "12. feature 12 (0.028317489618327002) - Total night minutes\n",
            "13. feature 14 (0.028063709569529426) - Total night charge\n",
            "14. feature 7 (0.026581138144554536) - Total day calls\n",
            "15. feature 13 (0.02616054242855038) - Total night calls\n",
            "16. feature 10 (0.025178782352420867) - Total eve calls\n",
            "17. feature 5 (0.023478287898127483) - Number vmail messages\n",
            "18. feature 1 (0.022537976511157572) - Account length\n",
            "19. feature 4 (0.02104615235441357) - Voice mail plan\n"
          ]
        },
        {
          "output_type": "display_data",
          "data": {
            "text/plain": [
              "<Figure size 1200x800 with 1 Axes>"
            ],
            "image/png": "[encoded data removed]"
          },
          "metadata": {}
        }
      ]
    },
    {
      "cell_type": "code",
      "source": [
        "from sklearn.model_selection import GridSearchCV\n",
        "from sklearn.metrics import precision_score, recall_score\n",
        "\n",
        "# Định nghĩa các siêu tham số cần điều chỉnh\n",
        "param_grid = {\n",
        "    'n_estimators': [100, 200, 300],\n",
        "    'max_features': ['auto', 'sqrt', 'log2'],\n",
        "    'max_depth': [10, 20, 30, None],\n",
        "    'min_samples_split': [2, 5, 10],\n",
        "    'min_samples_leaf': [1, 2, 4],\n",
        "    'bootstrap': [True, False]\n",
        "}\n",
        "\n",
        "# Sử dụng GridSearchCV để tìm kiếm các siêu tham số tốt nhất\n",
        "grid_search = GridSearchCV(estimator=rf, param_grid=param_grid, cv=3, n_jobs=-1, verbose=2)\n",
        "grid_search.fit(X_train, y_train)\n",
        "\n",
        "# In ra các siêu tham số tốt nhất\n",
        "print(\"Best parameters found: \", grid_search.best_params_)\n",
        "best_rf = grid_search.best_estimator_\n",
        "\n",
        "# Dự đoán và đánh giá mô hình\n",
        "y_pred_best = best_rf.predict(X_test)\n",
        "y_pred_prob_best = best_rf.predict_proba(X_test)[:, 1]\n",
        "\n",
        "accuracy_best = accuracy_score(y_test, y_pred_best)\n",
        "precision_best = precision_score(y_test, y_pred_best)\n",
        "recall_best = recall_score(y_test, y_pred_best)\n",
        "f1_best = f1_score(y_test, y_pred_best)\n",
        "auc_roc_best = roc_auc_score(y_test, y_pred_prob_best)\n",
        "\n",
        "print(\"Accuracy:\", accuracy_best)\n",
        "print(\"Precision:\", precision_best)\n",
        "print(\"Recall:\", recall_best)\n",
        "print(\"F1 Score:\", f1_best)\n",
        "print(\"AUC-ROC:\", auc_roc_best)\n",
        "print(\"Confusion Matrix:\\n\", confusion_matrix(y_test, y_pred_best))\n",
        "print(\"Classification Report:\\n\", classification_report(y_test, y_pred_best))\n"
      ],
      "metadata": {
        "id": "Kf-WHCUQ4rjJ",
        "outputId": "f02473a2-9263-4170-d264-a05684816f21",
        "colab": {
          "base_uri": "https://localhost:8080/"
        }
      },
      "execution_count": 9,
      "outputs": [
        {
          "output_type": "stream",
          "name": "stdout",
          "text": [
            "Fitting 3 folds for each of 648 candidates, totalling 1944 fits\n"
          ]
        },
        {
          "output_type": "stream",
          "name": "stderr",
          "text": [
            "/usr/local/lib/python3.10/dist-packages/sklearn/ensemble/_forest.py:424: FutureWarning: `max_features='auto'` has been deprecated in 1.1 and will be removed in 1.3. To keep the past behaviour, explicitly set `max_features='sqrt'` or remove this parameter as it is also the default value for RandomForestClassifiers and ExtraTreesClassifiers.\n",
            "  warn(\n"
          ]
        },
        {
          "output_type": "stream",
          "name": "stdout",
          "text": [
            "Best parameters found:  {'bootstrap': False, 'max_depth': 20, 'max_features': 'auto', 'min_samples_leaf': 1, 'min_samples_split': 2, 'n_estimators': 300}\n",
            "Accuracy: 0.9580209895052474\n",
            "Precision: 0.958904109589041\n",
            "Recall: 0.7368421052631579\n",
            "F1 Score: 0.8333333333333334\n",
            "AUC-ROC: 0.9169764446080235\n",
            "Confusion Matrix:\n",
            " [[569   3]\n",
            " [ 25  70]]\n",
            "Classification Report:\n",
            "               precision    recall  f1-score   support\n",
            "\n",
            "       False       0.96      0.99      0.98       572\n",
            "        True       0.96      0.74      0.83        95\n",
            "\n",
            "    accuracy                           0.96       667\n",
            "   macro avg       0.96      0.87      0.90       667\n",
            "weighted avg       0.96      0.96      0.96       667\n",
            "\n"
          ]
        }
      ]
    }
  ],
  "metadata": {
    "colab": {
      "provenance": [],
      "gpuType": "T4"
    },
    "kernelspec": {
      "display_name": "Python 3",
      "name": "python3"
    },
    "accelerator": "GPU"
  },
  "nbformat": 4,
  "nbformat_minor": 0
}